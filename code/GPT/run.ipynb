{
 "cells": [
  {
   "cell_type": "code",
   "execution_count": null,
   "metadata": {
    "vscode": {
     "languageId": "plaintext"
    }
   },
   "outputs": [],
   "source": [
    "import openai\n",
    "import pandas as pd"
   ]
  },
  {
   "cell_type": "code",
   "execution_count": null,
   "metadata": {
    "vscode": {
     "languageId": "plaintext"
    }
   },
   "outputs": [],
   "source": [
    "openai.api_key = \"YOUR_API_KEY\"\n",
    "\n",
    "def load_prompt_from_file(file_path):\n",
    "    with open(file_path, 'r', encoding='utf-8') as file:\n",
    "        prompt_template = file.read()\n",
    "    return prompt_template\n",
    "\n",
    "def detect_spam_and_calculate_accuracy(csv_file, text_column, label_column, output_file, prompt_file):\n",
    "    \n",
    "    prompt_template = load_prompt_from_file(prompt_file)\n",
    "\n",
    "    data = pd.read_csv(csv_file)\n",
    "    data['Predicted_Label'] = \"\"\n",
    "\n",
    "    correct_predictions = 0  \n",
    "    total_samples = 0       \n",
    "\n",
    "    for index, row in data.iterrows():\n",
    "        if index == 100:\n",
    "            break\n",
    "        text = row[text_column]\n",
    "        true_label = row[label_column]\n",
    "        prompt = prompt_template.replace(\"{text}\", text)\n",
    "\n",
    "        try:\n",
    "            response = openai.ChatCompletion.create(\n",
    "                model=\"gpt-4o-mini\",\n",
    "                messages=[\n",
    "                    {\"role\": \"system\", \"content\": \"You are an expert spam email detector.\"},\n",
    "                    {\"role\": \"user\", \"content\": prompt}\n",
    "                ]\n",
    "            )\n",
    "            predicted_label = response['choices'][0]['message']['content'].strip().strip('\"').strip(\"'\")\n",
    "            print(f\"Predicted label for row {index}: {predicted_label}\")\n",
    "            if predicted_label not in [\"0\", \"1\"]:\n",
    "                print(f\"Unexpected response for row {index}: {predicted_label}\")\n",
    "                predicted_label = \"-1\"  \n",
    "\n",
    "            data.at[index, 'Predicted_Label'] = int(predicted_label)\n",
    "\n",
    "            if int(predicted_label) == int(true_label):\n",
    "                correct_predictions += 1\n",
    "\n",
    "            total_samples += 1\n",
    "\n",
    "        except Exception as e:\n",
    "            print(f\"Error processing row {index}: {e}\")\n",
    "            data.at[index, 'Predicted_Label'] = -1 \n",
    "\n",
    "    accuracy = correct_predictions / 100 if total_samples > 0 else 0\n",
    "    print(f\"Accuracy: {accuracy:.2%}\")\n",
    "\n",
    "    data.to_csv(output_file, index=False)\n",
    "    print(f\"Spam detection results saved to {output_file}\")\n",
    "    return accuracy"
   ]
  },
  {
   "cell_type": "code",
   "execution_count": null,
   "metadata": {
    "vscode": {
     "languageId": "plaintext"
    }
   },
   "outputs": [],
   "source": [
    "csv_file = \"./spam_ham_dataset.csv\"\n",
    "text_column = \"text\"\n",
    "label_column = \"label_num\"  \n",
    "output_file = \"./out_spam_ham_dataset.csv\" \n",
    "prompt_file = \"./fewshot.prompt\"  \n",
    "\n",
    "accuracy = detect_spam_and_calculate_accuracy(csv_file, text_column, label_column, output_file, prompt_file)\n",
    "print(f\"Final Accuracy: {accuracy:.2%}\")"
   ]
  }
 ],
 "metadata": {
  "language_info": {
   "name": "python"
  }
 },
 "nbformat": 4,
 "nbformat_minor": 2
}
